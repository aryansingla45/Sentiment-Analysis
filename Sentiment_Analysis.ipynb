{
 "cells": [
  {
   "cell_type": "markdown",
   "id": "3992c3f3",
   "metadata": {},
   "source": [
    "# Sentiment Analysis Project Overview\n",
    "##### Author - Aryan Singla , UIET KUK(ECE)\n",
    "\n",
    "## Introduction\n",
    "In this project, we'll be exploring sentiment analysis, a natural language processing (NLP) technique that involves extracting subjective information from text data. Sentiment analysis aims to determine the sentiment expressed in a piece of text, whether it's positive, negative, or neutral.\n",
    "\n",
    "## Goals\n",
    "The primary goals of this project are:\n",
    "- To analyze the sentiment of text data using machine learning and deep learning techniques.\n",
    "- To build a sentiment analysis model that can accurately classify the sentiment of text.\n",
    "\n",
    "## Dataset\n",
    "We will be using a balanced [dataset](link_to_dataset) containing text data along with their corresponding sentiment labels. The dataset consists of 2 columns:[clean_text : which represent the tweet] and [category : 0 for positive sentiment and 1 for negative sentiment].\n",
    "\n",
    "## Methodology\n",
    "Our approach to sentiment analysis will involve the following steps:\n",
    "1. Data Preprocessing: Cleaning and preparing the text data for analysis.\n",
    "2. Feature Extraction: Transforming the text data into numerical representations suitable for machine learning models.\n",
    "3. Model Building: Training machine learning or deep learning models to classify sentiment.\n",
    "4. Evaluation: Assessing the performance of the models using appropriate metrics.\n",
    "\n",
    "## Tools and Libraries\n",
    "We'll be using the following tools and libraries for this project:\n",
    "- Python programming language\n",
    "- Jupyter Notebook for interactive development\n",
    "- Scikit-learn, TensorFlow, or PyTorch for machine learning and deep learning\n",
    "- Pandas and NumPy for data manipulation\n",
    "- Matplotlib and Seaborn for data visualization\n",
    "\n",
    "## Conclusion\n",
    "By the end of this project, we aim to develop a robust sentiment analysis model that can accurately classify the sentiment of text data, which can be applied to various real-world scenarios.\n",
    "\n",
    "Stay tuned as we dive into each step of the project in detail!\n"
   ]
  },
  {
   "cell_type": "markdown",
   "id": "48a94ac3",
   "metadata": {},
   "source": [
    "# Loading the Dataset"
   ]
  },
  {
   "cell_type": "code",
   "execution_count": 1,
   "id": "6490eabb",
   "metadata": {},
   "outputs": [],
   "source": [
    "# We are using a balanced dataset which contains equal values of category of sentiments.\n",
    "import pandas as pd\n",
    "data = pd.read_csv(\"tweets_data.csv\")"
   ]
  },
  {
   "cell_type": "code",
   "execution_count": 2,
   "id": "005b40d9",
   "metadata": {},
   "outputs": [
    {
     "data": {
      "text/html": [
       "<div>\n",
       "<style scoped>\n",
       "    .dataframe tbody tr th:only-of-type {\n",
       "        vertical-align: middle;\n",
       "    }\n",
       "\n",
       "    .dataframe tbody tr th {\n",
       "        vertical-align: top;\n",
       "    }\n",
       "\n",
       "    .dataframe thead th {\n",
       "        text-align: right;\n",
       "    }\n",
       "</style>\n",
       "<table border=\"1\" class=\"dataframe\">\n",
       "  <thead>\n",
       "    <tr style=\"text-align: right;\">\n",
       "      <th></th>\n",
       "      <th>id</th>\n",
       "      <th>label</th>\n",
       "      <th>tweet</th>\n",
       "    </tr>\n",
       "  </thead>\n",
       "  <tbody>\n",
       "    <tr>\n",
       "      <th>0</th>\n",
       "      <td>1</td>\n",
       "      <td>0</td>\n",
       "      <td>#fingerprint #Pregnancy Test https://goo.gl/h1...</td>\n",
       "    </tr>\n",
       "    <tr>\n",
       "      <th>1</th>\n",
       "      <td>2</td>\n",
       "      <td>0</td>\n",
       "      <td>Finally a transparant silicon case ^^ Thanks t...</td>\n",
       "    </tr>\n",
       "    <tr>\n",
       "      <th>2</th>\n",
       "      <td>3</td>\n",
       "      <td>0</td>\n",
       "      <td>We love this! Would you go? #talk #makememorie...</td>\n",
       "    </tr>\n",
       "    <tr>\n",
       "      <th>3</th>\n",
       "      <td>4</td>\n",
       "      <td>0</td>\n",
       "      <td>I'm wired I know I'm George I was made that wa...</td>\n",
       "    </tr>\n",
       "    <tr>\n",
       "      <th>4</th>\n",
       "      <td>5</td>\n",
       "      <td>1</td>\n",
       "      <td>What amazing service! Apple won't even talk to...</td>\n",
       "    </tr>\n",
       "  </tbody>\n",
       "</table>\n",
       "</div>"
      ],
      "text/plain": [
       "   id  label                                              tweet\n",
       "0   1      0  #fingerprint #Pregnancy Test https://goo.gl/h1...\n",
       "1   2      0  Finally a transparant silicon case ^^ Thanks t...\n",
       "2   3      0  We love this! Would you go? #talk #makememorie...\n",
       "3   4      0  I'm wired I know I'm George I was made that wa...\n",
       "4   5      1  What amazing service! Apple won't even talk to..."
      ]
     },
     "execution_count": 2,
     "metadata": {},
     "output_type": "execute_result"
    }
   ],
   "source": [
    "data.head()"
   ]
  },
  {
   "cell_type": "code",
   "execution_count": 3,
   "id": "e6d0a137",
   "metadata": {},
   "outputs": [
    {
     "name": "stdout",
     "output_type": "stream",
     "text": [
      "<class 'pandas.core.frame.DataFrame'>\n",
      "RangeIndex: 7920 entries, 0 to 7919\n",
      "Data columns (total 3 columns):\n",
      " #   Column  Non-Null Count  Dtype \n",
      "---  ------  --------------  ----- \n",
      " 0   id      7920 non-null   int64 \n",
      " 1   label   7920 non-null   int64 \n",
      " 2   tweet   7920 non-null   object\n",
      "dtypes: int64(2), object(1)\n",
      "memory usage: 185.8+ KB\n"
     ]
    }
   ],
   "source": [
    "data.info()"
   ]
  },
  {
   "cell_type": "code",
   "execution_count": 4,
   "id": "094ff4ab",
   "metadata": {},
   "outputs": [
    {
     "data": {
      "text/plain": [
       "id       0\n",
       "label    0\n",
       "tweet    0\n",
       "dtype: int64"
      ]
     },
     "execution_count": 4,
     "metadata": {},
     "output_type": "execute_result"
    }
   ],
   "source": [
    "# checking for missing values\n",
    "data.isnull().sum()"
   ]
  },
  {
   "cell_type": "code",
   "execution_count": 5,
   "id": "1545b8c3",
   "metadata": {},
   "outputs": [],
   "source": [
    "# as there are no missing value let's just drop the id column\n",
    "data.drop(['id'], axis=1, inplace=True)"
   ]
  },
  {
   "cell_type": "code",
   "execution_count": 6,
   "id": "f491c601",
   "metadata": {},
   "outputs": [
    {
     "data": {
      "text/plain": [
       "<AxesSubplot:>"
      ]
     },
     "execution_count": 6,
     "metadata": {},
     "output_type": "execute_result"
    },
    {
     "data": {
      "image/png": "[encoded data removed]",
      "text/plain": [
       "<Figure size 432x288 with 1 Axes>"
      ]
     },
     "metadata": {
      "needs_background": "light"
     },
     "output_type": "display_data"
    }
   ],
   "source": [
    "data['label'].value_counts().plot(kind='bar')"
   ]
  },
  {
   "cell_type": "markdown",
   "id": "b3280b0b",
   "metadata": {},
   "source": [
    "# Data Cleaning\n",
    "\n",
    "In this project, I focused on cleaning the text data, which was rich in mentions, hashtags, hyperlinks, and various other artifacts commonly found in social media content. To accomplish this, I employed a combination of techniques and libraries to ensure the data was ready for further analysis.\n",
    "\n",
    "#### 1. Regex:\n",
    "\n",
    "The `re` library, Python's regular expression module, played a vital role in cleaning the text data. It was utilized for the following tasks:\n",
    "\n",
    "- **Removing Mentions**: Twitter mentions (e.g., \"@username\") were eliminated using the regular expression `@[A-Za-z0-9_]+`.\n",
    "- **Removing Hashtags**: Hashtags (e.g., \"#topic\") were stripped away using the regular expression `#`.\n",
    "- **Removing Hyperlinks**: URLs and hyperlinks were scrubbed out using the regular expression `http\\S+|www\\S+`.\n",
    "\n",
    "#### 2. Lemmatization:\n",
    "\n",
    "Lemmatization is a process of reducing words to their base or root form, which helps in standardizing text data for analysis. For this task, I utilized the WordNet lemmatizer from the `nltk` library. Lemmatization ensures that different inflected forms of a word are treated as a single item, enhancing the consistency of the text data.\n",
    "\n",
    "#### 3. Stopwords Removal:\n",
    "\n",
    "Stopwords are common words that do not carry significant meaning in text analysis and are often removed to improve the quality of text data. I used the `stopwords` corpus from the `nltk` library to identify and remove stopwords from the text. This step helps in reducing noise and focusing on the essential content of the text data.\n",
    "\n",
    "#### 4. Contractions Expansion:\n",
    "\n",
    "Contractions are shortened versions of words or phrases (e.g., \"don't\" for \"do not\") commonly used in informal writing, such as social media posts. Expanding contractions helps in standardizing the text and ensures that each word is treated independently. I utilized the `contractions` library to expand contractions in the text data before further processing."
   ]
  },
  {
   "cell_type": "code",
   "execution_count": 7,
   "id": "cdce29e0",
   "metadata": {},
   "outputs": [
    {
     "data": {
      "text/plain": [
       "'Just bought something kahapon :) #walkman #Sony xempre with ORANGE headset haha!'"
      ]
     },
     "execution_count": 7,
     "metadata": {},
     "output_type": "execute_result"
    }
   ],
   "source": [
    "data['tweet'][234]"
   ]
  },
  {
   "cell_type": "code",
   "execution_count": 8,
   "id": "eea3a1ed",
   "metadata": {},
   "outputs": [],
   "source": [
    "import re\n",
    "import nltk\n",
    "from nltk.corpus import stopwords\n",
    "from nltk.tokenize import word_tokenize\n",
    "from nltk.stem import WordNetLemmatizer\n",
    "import contractions"
   ]
  },
  {
   "cell_type": "code",
   "execution_count": 9,
   "id": "30b9265b",
   "metadata": {},
   "outputs": [],
   "source": [
    "def clean_tweet(tweet):\n",
    "    # Remove mentions\n",
    "    tweet = re.sub(r'@[A-Za-z0-9_]+', '', tweet)\n",
    "    # Remove hashtags\n",
    "    tweet = re.sub(r'#', '', tweet)\n",
    "    # Remove hyperlinks\n",
    "    tweet = re.sub(r'http\\S+|www\\S+', '', tweet)\n",
    "    # Expand contractions\n",
    "    tweet = contractions.fix(tweet)\n",
    "    # Remove special characters and keep only alphabets and numbers\n",
    "    tweet = re.sub(r'[^a-zA-Z0-9\\s]', '', tweet)\n",
    "    # Convert to lowercase\n",
    "    tweet = tweet.lower()\n",
    "    # Tokenize the tweet\n",
    "    tokens = word_tokenize(tweet)\n",
    "    # Remove stop words\n",
    "    stop_words = set(stopwords.words('english'))\n",
    "    filtered_tokens = [word for word in tokens if word not in stop_words]\n",
    "    # Lemmatization\n",
    "    lemmatizer = WordNetLemmatizer()\n",
    "    lemmatized_tokens = [lemmatizer.lemmatize(word) for word in filtered_tokens]\n",
    "    # Join tokens back into a string\n",
    "    clean_tweet = ' '.join(lemmatized_tokens)\n",
    "    return clean_tweet"
   ]
  },
  {
   "cell_type": "code",
   "execution_count": 10,
   "id": "298017bf",
   "metadata": {},
   "outputs": [],
   "source": [
    "cleaned_tweets = []  # list of cleaned tweets\n",
    "for tweet in data['tweet']:\n",
    "    cleaned_tweets.append(clean_tweet(tweet))"
   ]
  },
  {
   "cell_type": "code",
   "execution_count": 11,
   "id": "8d717d97",
   "metadata": {},
   "outputs": [
    {
     "data": {
      "text/html": [
       "<div>\n",
       "<style scoped>\n",
       "    .dataframe tbody tr th:only-of-type {\n",
       "        vertical-align: middle;\n",
       "    }\n",
       "\n",
       "    .dataframe tbody tr th {\n",
       "        vertical-align: top;\n",
       "    }\n",
       "\n",
       "    .dataframe thead th {\n",
       "        text-align: right;\n",
       "    }\n",
       "</style>\n",
       "<table border=\"1\" class=\"dataframe\">\n",
       "  <thead>\n",
       "    <tr style=\"text-align: right;\">\n",
       "      <th></th>\n",
       "      <th>label</th>\n",
       "      <th>tweet</th>\n",
       "      <th>cleaned_tweet</th>\n",
       "    </tr>\n",
       "  </thead>\n",
       "  <tbody>\n",
       "    <tr>\n",
       "      <th>0</th>\n",
       "      <td>0</td>\n",
       "      <td>#fingerprint #Pregnancy Test https://goo.gl/h1...</td>\n",
       "      <td>fingerprint pregnancy test android apps beauti...</td>\n",
       "    </tr>\n",
       "    <tr>\n",
       "      <th>1</th>\n",
       "      <td>0</td>\n",
       "      <td>Finally a transparant silicon case ^^ Thanks t...</td>\n",
       "      <td>finally transparant silicon case thanks uncle ...</td>\n",
       "    </tr>\n",
       "    <tr>\n",
       "      <th>2</th>\n",
       "      <td>0</td>\n",
       "      <td>We love this! Would you go? #talk #makememorie...</td>\n",
       "      <td>love would go talk makememories unplug relax i...</td>\n",
       "    </tr>\n",
       "    <tr>\n",
       "      <th>3</th>\n",
       "      <td>0</td>\n",
       "      <td>I'm wired I know I'm George I was made that wa...</td>\n",
       "      <td>wired know george made way iphone cute daventr...</td>\n",
       "    </tr>\n",
       "    <tr>\n",
       "      <th>4</th>\n",
       "      <td>1</td>\n",
       "      <td>What amazing service! Apple won't even talk to...</td>\n",
       "      <td>amazing service apple even talk question unles...</td>\n",
       "    </tr>\n",
       "  </tbody>\n",
       "</table>\n",
       "</div>"
      ],
      "text/plain": [
       "   label                                              tweet  \\\n",
       "0      0  #fingerprint #Pregnancy Test https://goo.gl/h1...   \n",
       "1      0  Finally a transparant silicon case ^^ Thanks t...   \n",
       "2      0  We love this! Would you go? #talk #makememorie...   \n",
       "3      0  I'm wired I know I'm George I was made that wa...   \n",
       "4      1  What amazing service! Apple won't even talk to...   \n",
       "\n",
       "                                       cleaned_tweet  \n",
       "0  fingerprint pregnancy test android apps beauti...  \n",
       "1  finally transparant silicon case thanks uncle ...  \n",
       "2  love would go talk makememories unplug relax i...  \n",
       "3  wired know george made way iphone cute daventr...  \n",
       "4  amazing service apple even talk question unles...  "
      ]
     },
     "execution_count": 11,
     "metadata": {},
     "output_type": "execute_result"
    }
   ],
   "source": [
    "data['cleaned_tweet'] = cleaned_tweets\n",
    "data.head()"
   ]
  },
  {
   "cell_type": "code",
   "execution_count": 12,
   "id": "bfc151a8",
   "metadata": {},
   "outputs": [
    {
     "data": {
      "text/plain": [
       "'bought something kahapon walkman sony xempre orange headset haha'"
      ]
     },
     "execution_count": 12,
     "metadata": {},
     "output_type": "execute_result"
    }
   ],
   "source": [
    "data['cleaned_tweet'][234]"
   ]
  },
  {
   "cell_type": "markdown",
   "id": "f5a738de",
   "metadata": {},
   "source": [
    " # Data Visualization\n",
    " \n",
    " #### We visualized the top 25 words from the cleaned_tweets"
   ]
  },
  {
   "cell_type": "code",
   "execution_count": 13,
   "id": "1f0e6208",
   "metadata": {},
   "outputs": [],
   "source": [
    "import matplotlib.pyplot as plt\n",
    "import seaborn as sns\n",
    "from collections import Counter"
   ]
  },
  {
   "cell_type": "code",
   "execution_count": 14,
   "id": "4e43df00",
   "metadata": {},
   "outputs": [
    {
     "data": {
      "image/png": "[encoded data removed]",
      "text/plain": [
       "<Figure size 1440x864 with 2 Axes>"
      ]
     },
     "metadata": {
      "needs_background": "light"
     },
     "output_type": "display_data"
    }
   ],
   "source": [
    "# Tokenize the cleaned tweets into words\n",
    "tokenized_tweets = [tweet.split() for tweet in data['cleaned_tweet']]\n",
    "# Flatten the list of tokenized tweets into a single list of words\n",
    "all_words = [word for tweet_words in tokenized_tweets for word in tweet_words]\n",
    "# Count the occurrences of each word\n",
    "word_counts = Counter(all_words)\n",
    "# Convert the word counts to a dictionary\n",
    "word_counts_dict = dict(word_counts)\n",
    "# Create a DataFrame from the word counts dictionary\n",
    "word_counts_df = pd.DataFrame.from_dict(word_counts_dict, orient='index', columns=['count'])\n",
    "# Sort the DataFrame by word counts in descending order\n",
    "word_counts_df = word_counts_df.sort_values(by='count', ascending=False)\n",
    "# Take the top 20 most frequent words\n",
    "top_words = word_counts_df.head(25)\n",
    "# Create a word heatmap using seaborn\n",
    "plt.figure(figsize=(20, 12))\n",
    "sns.heatmap(top_words.transpose(), cmap='viridis', annot=True, fmt=\"d\")\n",
    "plt.title('Top 25 Most Frequent Words')\n",
    "plt.xlabel('Words')\n",
    "plt.ylabel('Frequency')\n",
    "plt.show()"
   ]
  },
  {
   "cell_type": "code",
   "execution_count": 15,
   "id": "6fe138d9",
   "metadata": {},
   "outputs": [
    {
     "data": {
      "text/html": [
       "<div>\n",
       "<style scoped>\n",
       "    .dataframe tbody tr th:only-of-type {\n",
       "        vertical-align: middle;\n",
       "    }\n",
       "\n",
       "    .dataframe tbody tr th {\n",
       "        vertical-align: top;\n",
       "    }\n",
       "\n",
       "    .dataframe thead th {\n",
       "        text-align: right;\n",
       "    }\n",
       "</style>\n",
       "<table border=\"1\" class=\"dataframe\">\n",
       "  <thead>\n",
       "    <tr style=\"text-align: right;\">\n",
       "      <th></th>\n",
       "      <th>label</th>\n",
       "      <th>tweet</th>\n",
       "      <th>cleaned_tweet</th>\n",
       "    </tr>\n",
       "  </thead>\n",
       "  <tbody>\n",
       "    <tr>\n",
       "      <th>0</th>\n",
       "      <td>0</td>\n",
       "      <td>#fingerprint #Pregnancy Test https://goo.gl/h1...</td>\n",
       "      <td>fingerprint pregnancy test android apps beauti...</td>\n",
       "    </tr>\n",
       "    <tr>\n",
       "      <th>1</th>\n",
       "      <td>0</td>\n",
       "      <td>Finally a transparant silicon case ^^ Thanks t...</td>\n",
       "      <td>finally transparant silicon case thanks uncle ...</td>\n",
       "    </tr>\n",
       "    <tr>\n",
       "      <th>2</th>\n",
       "      <td>0</td>\n",
       "      <td>We love this! Would you go? #talk #makememorie...</td>\n",
       "      <td>love would go talk makememories unplug relax i...</td>\n",
       "    </tr>\n",
       "    <tr>\n",
       "      <th>3</th>\n",
       "      <td>0</td>\n",
       "      <td>I'm wired I know I'm George I was made that wa...</td>\n",
       "      <td>wired know george made way iphone cute daventr...</td>\n",
       "    </tr>\n",
       "    <tr>\n",
       "      <th>4</th>\n",
       "      <td>1</td>\n",
       "      <td>What amazing service! Apple won't even talk to...</td>\n",
       "      <td>amazing service apple even talk question unles...</td>\n",
       "    </tr>\n",
       "  </tbody>\n",
       "</table>\n",
       "</div>"
      ],
      "text/plain": [
       "   label                                              tweet  \\\n",
       "0      0  #fingerprint #Pregnancy Test https://goo.gl/h1...   \n",
       "1      0  Finally a transparant silicon case ^^ Thanks t...   \n",
       "2      0  We love this! Would you go? #talk #makememorie...   \n",
       "3      0  I'm wired I know I'm George I was made that wa...   \n",
       "4      1  What amazing service! Apple won't even talk to...   \n",
       "\n",
       "                                       cleaned_tweet  \n",
       "0  fingerprint pregnancy test android apps beauti...  \n",
       "1  finally transparant silicon case thanks uncle ...  \n",
       "2  love would go talk makememories unplug relax i...  \n",
       "3  wired know george made way iphone cute daventr...  \n",
       "4  amazing service apple even talk question unles...  "
      ]
     },
     "execution_count": 15,
     "metadata": {},
     "output_type": "execute_result"
    }
   ],
   "source": [
    "data.head()"
   ]
  },
  {
   "cell_type": "markdown",
   "id": "b9868992",
   "metadata": {},
   "source": [
    "# Creating a Bag of Words Model using \n",
    "#### Count Vectorizer :\n",
    "\n",
    "- CountVectorizer is a text preprocessing technique used in natural language processing (NLP) to convert a collection of text documents into a matrix of token counts. It's part of the feature extraction process and is particularly useful for preparing text data for machine learning algorithms."
   ]
  },
  {
   "cell_type": "code",
   "execution_count": 16,
   "id": "49abda4a",
   "metadata": {},
   "outputs": [],
   "source": [
    "from sklearn.feature_extraction.text import CountVectorizer\n",
    "CV = CountVectorizer()"
   ]
  },
  {
   "cell_type": "code",
   "execution_count": 17,
   "id": "95122b06",
   "metadata": {},
   "outputs": [],
   "source": [
    "CV_data = CV.fit_transform(data['cleaned_tweet'])"
   ]
  },
  {
   "cell_type": "code",
   "execution_count": 18,
   "id": "00f72607",
   "metadata": {},
   "outputs": [
    {
     "data": {
      "text/plain": [
       "<1x16466 sparse matrix of type '<class 'numpy.int64'>'\n",
       "\twith 12 stored elements in Compressed Sparse Row format>"
      ]
     },
     "execution_count": 18,
     "metadata": {},
     "output_type": "execute_result"
    }
   ],
   "source": [
    "CV_data[0]"
   ]
  },
  {
   "cell_type": "code",
   "execution_count": 19,
   "id": "2bcac176",
   "metadata": {},
   "outputs": [],
   "source": [
    "df = data.copy()\n",
    "df.columns = ['label', 'tweet', 'cleaned_tweets']\n",
    "df.to_pickle('cleaned_tweets.pkl')\n",
    "df.to_csv('cleaned_tweets', index=False)"
   ]
  },
  {
   "cell_type": "code",
   "execution_count": 20,
   "id": "e466ed13",
   "metadata": {},
   "outputs": [
    {
     "data": {
      "text/html": [
       "<div>\n",
       "<style scoped>\n",
       "    .dataframe tbody tr th:only-of-type {\n",
       "        vertical-align: middle;\n",
       "    }\n",
       "\n",
       "    .dataframe tbody tr th {\n",
       "        vertical-align: top;\n",
       "    }\n",
       "\n",
       "    .dataframe thead th {\n",
       "        text-align: right;\n",
       "    }\n",
       "</style>\n",
       "<table border=\"1\" class=\"dataframe\">\n",
       "  <thead>\n",
       "    <tr style=\"text-align: right;\">\n",
       "      <th></th>\n",
       "      <th>0</th>\n",
       "      <th>1</th>\n",
       "      <th>2</th>\n",
       "      <th>3</th>\n",
       "      <th>4</th>\n",
       "      <th>5</th>\n",
       "      <th>6</th>\n",
       "      <th>7</th>\n",
       "      <th>8</th>\n",
       "      <th>9</th>\n",
       "      <th>...</th>\n",
       "      <th>16456</th>\n",
       "      <th>16457</th>\n",
       "      <th>16458</th>\n",
       "      <th>16459</th>\n",
       "      <th>16460</th>\n",
       "      <th>16461</th>\n",
       "      <th>16462</th>\n",
       "      <th>16463</th>\n",
       "      <th>16464</th>\n",
       "      <th>16465</th>\n",
       "    </tr>\n",
       "  </thead>\n",
       "  <tbody>\n",
       "    <tr>\n",
       "      <th>0</th>\n",
       "      <td>0</td>\n",
       "      <td>0</td>\n",
       "      <td>0</td>\n",
       "      <td>0</td>\n",
       "      <td>0</td>\n",
       "      <td>0</td>\n",
       "      <td>0</td>\n",
       "      <td>0</td>\n",
       "      <td>0</td>\n",
       "      <td>0</td>\n",
       "      <td>...</td>\n",
       "      <td>0</td>\n",
       "      <td>0</td>\n",
       "      <td>0</td>\n",
       "      <td>0</td>\n",
       "      <td>0</td>\n",
       "      <td>0</td>\n",
       "      <td>0</td>\n",
       "      <td>0</td>\n",
       "      <td>0</td>\n",
       "      <td>0</td>\n",
       "    </tr>\n",
       "    <tr>\n",
       "      <th>1</th>\n",
       "      <td>0</td>\n",
       "      <td>0</td>\n",
       "      <td>0</td>\n",
       "      <td>0</td>\n",
       "      <td>0</td>\n",
       "      <td>0</td>\n",
       "      <td>0</td>\n",
       "      <td>0</td>\n",
       "      <td>0</td>\n",
       "      <td>0</td>\n",
       "      <td>...</td>\n",
       "      <td>0</td>\n",
       "      <td>0</td>\n",
       "      <td>0</td>\n",
       "      <td>0</td>\n",
       "      <td>0</td>\n",
       "      <td>0</td>\n",
       "      <td>0</td>\n",
       "      <td>0</td>\n",
       "      <td>0</td>\n",
       "      <td>0</td>\n",
       "    </tr>\n",
       "    <tr>\n",
       "      <th>2</th>\n",
       "      <td>0</td>\n",
       "      <td>0</td>\n",
       "      <td>0</td>\n",
       "      <td>0</td>\n",
       "      <td>0</td>\n",
       "      <td>0</td>\n",
       "      <td>0</td>\n",
       "      <td>0</td>\n",
       "      <td>0</td>\n",
       "      <td>0</td>\n",
       "      <td>...</td>\n",
       "      <td>0</td>\n",
       "      <td>0</td>\n",
       "      <td>0</td>\n",
       "      <td>0</td>\n",
       "      <td>0</td>\n",
       "      <td>0</td>\n",
       "      <td>0</td>\n",
       "      <td>0</td>\n",
       "      <td>0</td>\n",
       "      <td>0</td>\n",
       "    </tr>\n",
       "    <tr>\n",
       "      <th>3</th>\n",
       "      <td>0</td>\n",
       "      <td>0</td>\n",
       "      <td>0</td>\n",
       "      <td>0</td>\n",
       "      <td>0</td>\n",
       "      <td>0</td>\n",
       "      <td>0</td>\n",
       "      <td>0</td>\n",
       "      <td>0</td>\n",
       "      <td>0</td>\n",
       "      <td>...</td>\n",
       "      <td>0</td>\n",
       "      <td>0</td>\n",
       "      <td>0</td>\n",
       "      <td>0</td>\n",
       "      <td>0</td>\n",
       "      <td>0</td>\n",
       "      <td>0</td>\n",
       "      <td>0</td>\n",
       "      <td>0</td>\n",
       "      <td>0</td>\n",
       "    </tr>\n",
       "    <tr>\n",
       "      <th>4</th>\n",
       "      <td>0</td>\n",
       "      <td>0</td>\n",
       "      <td>0</td>\n",
       "      <td>0</td>\n",
       "      <td>0</td>\n",
       "      <td>0</td>\n",
       "      <td>0</td>\n",
       "      <td>0</td>\n",
       "      <td>0</td>\n",
       "      <td>0</td>\n",
       "      <td>...</td>\n",
       "      <td>0</td>\n",
       "      <td>0</td>\n",
       "      <td>0</td>\n",
       "      <td>0</td>\n",
       "      <td>0</td>\n",
       "      <td>0</td>\n",
       "      <td>0</td>\n",
       "      <td>0</td>\n",
       "      <td>0</td>\n",
       "      <td>0</td>\n",
       "    </tr>\n",
       "    <tr>\n",
       "      <th>...</th>\n",
       "      <td>...</td>\n",
       "      <td>...</td>\n",
       "      <td>...</td>\n",
       "      <td>...</td>\n",
       "      <td>...</td>\n",
       "      <td>...</td>\n",
       "      <td>...</td>\n",
       "      <td>...</td>\n",
       "      <td>...</td>\n",
       "      <td>...</td>\n",
       "      <td>...</td>\n",
       "      <td>...</td>\n",
       "      <td>...</td>\n",
       "      <td>...</td>\n",
       "      <td>...</td>\n",
       "      <td>...</td>\n",
       "      <td>...</td>\n",
       "      <td>...</td>\n",
       "      <td>...</td>\n",
       "      <td>...</td>\n",
       "      <td>...</td>\n",
       "    </tr>\n",
       "    <tr>\n",
       "      <th>7915</th>\n",
       "      <td>0</td>\n",
       "      <td>0</td>\n",
       "      <td>0</td>\n",
       "      <td>0</td>\n",
       "      <td>0</td>\n",
       "      <td>0</td>\n",
       "      <td>0</td>\n",
       "      <td>0</td>\n",
       "      <td>0</td>\n",
       "      <td>0</td>\n",
       "      <td>...</td>\n",
       "      <td>0</td>\n",
       "      <td>0</td>\n",
       "      <td>0</td>\n",
       "      <td>0</td>\n",
       "      <td>0</td>\n",
       "      <td>0</td>\n",
       "      <td>0</td>\n",
       "      <td>0</td>\n",
       "      <td>0</td>\n",
       "      <td>0</td>\n",
       "    </tr>\n",
       "    <tr>\n",
       "      <th>7916</th>\n",
       "      <td>0</td>\n",
       "      <td>0</td>\n",
       "      <td>0</td>\n",
       "      <td>0</td>\n",
       "      <td>0</td>\n",
       "      <td>0</td>\n",
       "      <td>0</td>\n",
       "      <td>0</td>\n",
       "      <td>0</td>\n",
       "      <td>0</td>\n",
       "      <td>...</td>\n",
       "      <td>0</td>\n",
       "      <td>0</td>\n",
       "      <td>0</td>\n",
       "      <td>0</td>\n",
       "      <td>0</td>\n",
       "      <td>0</td>\n",
       "      <td>0</td>\n",
       "      <td>0</td>\n",
       "      <td>0</td>\n",
       "      <td>0</td>\n",
       "    </tr>\n",
       "    <tr>\n",
       "      <th>7917</th>\n",
       "      <td>0</td>\n",
       "      <td>0</td>\n",
       "      <td>0</td>\n",
       "      <td>0</td>\n",
       "      <td>0</td>\n",
       "      <td>0</td>\n",
       "      <td>0</td>\n",
       "      <td>0</td>\n",
       "      <td>0</td>\n",
       "      <td>0</td>\n",
       "      <td>...</td>\n",
       "      <td>0</td>\n",
       "      <td>0</td>\n",
       "      <td>0</td>\n",
       "      <td>0</td>\n",
       "      <td>0</td>\n",
       "      <td>0</td>\n",
       "      <td>0</td>\n",
       "      <td>0</td>\n",
       "      <td>0</td>\n",
       "      <td>0</td>\n",
       "    </tr>\n",
       "    <tr>\n",
       "      <th>7918</th>\n",
       "      <td>0</td>\n",
       "      <td>0</td>\n",
       "      <td>0</td>\n",
       "      <td>0</td>\n",
       "      <td>0</td>\n",
       "      <td>0</td>\n",
       "      <td>0</td>\n",
       "      <td>0</td>\n",
       "      <td>0</td>\n",
       "      <td>0</td>\n",
       "      <td>...</td>\n",
       "      <td>0</td>\n",
       "      <td>0</td>\n",
       "      <td>0</td>\n",
       "      <td>0</td>\n",
       "      <td>0</td>\n",
       "      <td>0</td>\n",
       "      <td>0</td>\n",
       "      <td>0</td>\n",
       "      <td>0</td>\n",
       "      <td>0</td>\n",
       "    </tr>\n",
       "    <tr>\n",
       "      <th>7919</th>\n",
       "      <td>0</td>\n",
       "      <td>0</td>\n",
       "      <td>0</td>\n",
       "      <td>0</td>\n",
       "      <td>0</td>\n",
       "      <td>0</td>\n",
       "      <td>0</td>\n",
       "      <td>0</td>\n",
       "      <td>0</td>\n",
       "      <td>0</td>\n",
       "      <td>...</td>\n",
       "      <td>0</td>\n",
       "      <td>0</td>\n",
       "      <td>0</td>\n",
       "      <td>0</td>\n",
       "      <td>0</td>\n",
       "      <td>0</td>\n",
       "      <td>0</td>\n",
       "      <td>0</td>\n",
       "      <td>0</td>\n",
       "      <td>0</td>\n",
       "    </tr>\n",
       "  </tbody>\n",
       "</table>\n",
       "<p>7920 rows × 16466 columns</p>\n",
       "</div>"
      ],
      "text/plain": [
       "      0      1      2      3      4      5      6      7      8      9      \\\n",
       "0         0      0      0      0      0      0      0      0      0      0   \n",
       "1         0      0      0      0      0      0      0      0      0      0   \n",
       "2         0      0      0      0      0      0      0      0      0      0   \n",
       "3         0      0      0      0      0      0      0      0      0      0   \n",
       "4         0      0      0      0      0      0      0      0      0      0   \n",
       "...     ...    ...    ...    ...    ...    ...    ...    ...    ...    ...   \n",
       "7915      0      0      0      0      0      0      0      0      0      0   \n",
       "7916      0      0      0      0      0      0      0      0      0      0   \n",
       "7917      0      0      0      0      0      0      0      0      0      0   \n",
       "7918      0      0      0      0      0      0      0      0      0      0   \n",
       "7919      0      0      0      0      0      0      0      0      0      0   \n",
       "\n",
       "      ...  16456  16457  16458  16459  16460  16461  16462  16463  16464  \\\n",
       "0     ...      0      0      0      0      0      0      0      0      0   \n",
       "1     ...      0      0      0      0      0      0      0      0      0   \n",
       "2     ...      0      0      0      0      0      0      0      0      0   \n",
       "3     ...      0      0      0      0      0      0      0      0      0   \n",
       "4     ...      0      0      0      0      0      0      0      0      0   \n",
       "...   ...    ...    ...    ...    ...    ...    ...    ...    ...    ...   \n",
       "7915  ...      0      0      0      0      0      0      0      0      0   \n",
       "7916  ...      0      0      0      0      0      0      0      0      0   \n",
       "7917  ...      0      0      0      0      0      0      0      0      0   \n",
       "7918  ...      0      0      0      0      0      0      0      0      0   \n",
       "7919  ...      0      0      0      0      0      0      0      0      0   \n",
       "\n",
       "      16465  \n",
       "0         0  \n",
       "1         0  \n",
       "2         0  \n",
       "3         0  \n",
       "4         0  \n",
       "...     ...  \n",
       "7915      0  \n",
       "7916      0  \n",
       "7917      0  \n",
       "7918      0  \n",
       "7919      0  \n",
       "\n",
       "[7920 rows x 16466 columns]"
      ]
     },
     "execution_count": 20,
     "metadata": {},
     "output_type": "execute_result"
    }
   ],
   "source": [
    "df = pd.DataFrame(CV_data.todense() )\n",
    "df "
   ]
  },
  {
   "cell_type": "markdown",
   "id": "30410f04",
   "metadata": {},
   "source": [
    "### Logistic Regression Model"
   ]
  },
  {
   "cell_type": "code",
   "execution_count": 21,
   "id": "9b9b567c",
   "metadata": {},
   "outputs": [],
   "source": [
    "from sklearn.model_selection import train_test_split\n",
    "\n",
    "X_train, X_test, y_train, y_test = train_test_split(CV_data, data['label'], test_size=0.33, stratify=data['label'], random_state=42)"
   ]
  },
  {
   "cell_type": "code",
   "execution_count": 22,
   "id": "c41dcbf3",
   "metadata": {},
   "outputs": [
    {
     "name": "stdout",
     "output_type": "stream",
     "text": [
      "0.9779494911421033\n",
      "0.8775822494261668\n"
     ]
    }
   ],
   "source": [
    "from sklearn.linear_model import LogisticRegression \n",
    "lr = LogisticRegression()\n",
    "lr.fit(X_train, y_train)\n",
    "print(lr.score(X_train, y_train))  # train score)\n",
    "print(lr.score(X_test, y_test))   # test score)  "
   ]
  },
  {
   "cell_type": "markdown",
   "id": "14ae7ae0",
   "metadata": {},
   "source": [
    "Here, the difference between the train and test accuracy is 10% that is why we won't use it because it is overfitting so we will use "
   ]
  },
  {
   "cell_type": "code",
   "execution_count": 23,
   "id": "a6fdbc11",
   "metadata": {},
   "outputs": [
    {
     "name": "stdout",
     "output_type": "stream",
     "text": [
      "              precision    recall  f1-score   support\n",
      "\n",
      "           0       0.91      0.93      0.92      1945\n",
      "           1       0.78      0.72      0.75       669\n",
      "\n",
      "    accuracy                           0.88      2614\n",
      "   macro avg       0.84      0.83      0.83      2614\n",
      "weighted avg       0.88      0.88      0.88      2614\n",
      "\n"
     ]
    }
   ],
   "source": [
    "from sklearn.metrics import classification_report\n",
    "y_pred_lr = lr.predict(X_test)\n",
    "print(classification_report(y_test , y_pred_lr))"
   ]
  },
  {
   "cell_type": "code",
   "execution_count": 24,
   "id": "cf7323cc",
   "metadata": {},
   "outputs": [
    {
     "name": "stdout",
     "output_type": "stream",
     "text": [
      "0.9206558612891067\n",
      "0.8668706962509564\n"
     ]
    }
   ],
   "source": [
    "# l1 Regulaziation\n",
    "lr1 = LogisticRegression(class_weight='balanced', solver='liblinear', penalty='l1', C=0.9)\n",
    "lr1.fit(X_train, y_train)\n",
    "\n",
    "print(lr1.score(X_train, y_train))  # train score)\n",
    "print(lr1.score(X_test, y_test))   # test score)     \n"
   ]
  },
  {
   "cell_type": "code",
   "execution_count": 25,
   "id": "5dc8e1e6",
   "metadata": {},
   "outputs": [
    {
     "name": "stdout",
     "output_type": "stream",
     "text": [
      "[0.87941919 0.86868687 0.86300505 0.87373737 0.87941919]\n",
      "87.29 0.63\n",
      "[0.92266414 0.91950758 0.921875   0.91934975 0.91871843]\n",
      "92.04 0.16\n",
      "[0.87941919 0.86868687 0.86300505 0.87373737 0.87941919]\n",
      "87.29 0.63\n"
     ]
    }
   ],
   "source": [
    "from sklearn.model_selection import cross_val_score, cross_validate\n",
    "from sklearn.model_selection import StratifiedKFold\n",
    "import numpy as np\n",
    "X = CV_data\n",
    "y = data['label']\n",
    "\n",
    "\n",
    "LR1 = LogisticRegression(class_weight='balanced', solver='liblinear', penalty='l1', C=0.9)\n",
    "kfold = StratifiedKFold(n_splits=5, shuffle=True, random_state=42)\n",
    "results = cross_val_score(LR1, X, y, cv=kfold, scoring='accuracy')\n",
    "print(results)\n",
    "print(np.round((results.mean())*100, 2), np.round((results.std())*100, 2)) \n",
    "\n",
    "kfold = StratifiedKFold(n_splits=5, shuffle=True, random_state=42)\n",
    "results = cross_validate(LR1, X, y, cv=kfold, scoring='accuracy', return_train_score=True)\n",
    "\n",
    "results\n",
    "\n",
    "print(results['train_score'])\n",
    "print(np.round((results['train_score'].mean())*100, 2), np.round((results['train_score'].std())*100, 2)) \n",
    "\n",
    "print(results['test_score'])\n",
    "print(np.round((results['test_score'].mean())*100, 2), np.round((results['test_score'].std())*100, 2)) "
   ]
  },
  {
   "cell_type": "code",
   "execution_count": 26,
   "id": "645630cc",
   "metadata": {},
   "outputs": [
    {
     "name": "stdout",
     "output_type": "stream",
     "text": [
      "Fitting 5 folds for each of 20 candidates, totalling 100 fits\n"
     ]
    },
    {
     "data": {
      "text/plain": [
       "({'C': 0.90001}, 0.8727272727272727, 18)"
      ]
     },
     "execution_count": 26,
     "metadata": {},
     "output_type": "execute_result"
    }
   ],
   "source": [
    "## Hyper parameter tuning of the LR1 model\n",
    "from sklearn.model_selection import GridSearchCV\n",
    "\n",
    "LR1 = LogisticRegression(class_weight='balanced', solver='liblinear', penalty='l1')\n",
    "\n",
    "C_values = np.arange(0.00001, 1, 0.05) # 20 values\n",
    "\n",
    "grid = GridSearchCV(estimator=LR1, param_grid={'C': C_values}, cv=kfold, scoring='accuracy', \\\n",
    "                    return_train_score=True, verbose=2, n_jobs=-1)\n",
    "grid_results = grid.fit(X,y)\n",
    "\n",
    "\n",
    "grid_results.best_params_, grid_results.best_score_, grid_results.best_index_"
   ]
  },
  {
   "cell_type": "markdown",
   "id": "9e669677",
   "metadata": {},
   "source": [
    "# Creating a Bag of Words Model using \n",
    "#### TF-IDF Vectorizer :\n",
    "\n",
    "- TF-IDF (Term Frequency-Inverse Document Frequency) Vectorizer is a text preprocessing technique used in natural language processing (NLP) to convert a collection of text documents into numerical vectors. It's a popular method for feature extraction and is particularly useful for preparing text data for machine learning algorithms.\n"
   ]
  },
  {
   "cell_type": "code",
   "execution_count": 27,
   "id": "f2fc3bb7",
   "metadata": {},
   "outputs": [
    {
     "name": "stdout",
     "output_type": "stream",
     "text": [
      "86.39 0.31\n",
      "84.86 1.24\n"
     ]
    },
    {
     "data": {
      "text/plain": [
       "1200"
      ]
     },
     "execution_count": 27,
     "metadata": {},
     "output_type": "execute_result"
    }
   ],
   "source": [
    "from sklearn.feature_extraction.text import TfidfVectorizer\n",
    "from sklearn.pipeline import Pipeline\n",
    "X = data['cleaned_tweet']\n",
    "y = data['label']\n",
    "stop_words = set(stopwords.words('english'))\n",
    "TFIDF = TfidfVectorizer(stop_words=stop_words, min_df = 4, max_features=1200)\n",
    "\n",
    "LR1 = LogisticRegression(class_weight='balanced', solver='liblinear', penalty='l1', C=0.4)\n",
    "CV_pipe = Pipeline([('TFIDF', TFIDF) , ('LR', LR1)] )\n",
    "results = cross_validate(CV_pipe, X, y, cv=kfold, scoring='accuracy', return_train_score=True)\n",
    "\n",
    "# print(results['train_score'])\n",
    "print(np.round((results['train_score'].mean())*100, 2), np.round((results['train_score'].std())*100, 2)) \n",
    "\n",
    "# print(results['test_score'])\n",
    "print(np.round((results['test_score'].mean())*100, 2), np.round((results['test_score'].std())*100, 2)) \n",
    "\n",
    "TFIDF.fit_transform(X)\n",
    "len(TFIDF.vocabulary_)  # no. of features AFTER applying the stopwords"
   ]
  },
  {
   "cell_type": "markdown",
   "id": "a62a8cc6",
   "metadata": {},
   "source": [
    "# Creating a Gensim:Word2Vec Model"
   ]
  },
  {
   "cell_type": "code",
   "execution_count": 28,
   "id": "0844415d",
   "metadata": {},
   "outputs": [],
   "source": [
    "from gensim.models import Word2Vec\n",
    "tweets_list = list(data['cleaned_tweet'].apply(lambda x: x.split()))\n",
    "cbow_model = Word2Vec(tweets_list, vector_size = 300, window = 3, min_count=5, sg=0)"
   ]
  },
  {
   "cell_type": "code",
   "execution_count": 29,
   "id": "34964a03",
   "metadata": {},
   "outputs": [],
   "source": [
    "def document_vector(doc):\n",
    "    # doc1 contains those words of the document which are included in the vocab\n",
    "    doc1 = [word for word in doc.split() if word in cbow_model.wv.index_to_key]\n",
    "    \n",
    "    wv1 = []  # this will contain the WE of all the vocab words from the doc\n",
    "    for word in doc1:\n",
    "        wv1.append(cbow_model.wv.get_vector(word))\n",
    "    wv1_ = np.array(wv1)\n",
    "    wv1_mean = wv1_.mean(axis=0)\n",
    "    return wv1_mean\n"
   ]
  },
  {
   "cell_type": "code",
   "execution_count": 30,
   "id": "9586c7a0",
   "metadata": {},
   "outputs": [
    {
     "name": "stderr",
     "output_type": "stream",
     "text": [
      "C:\\Users\\pk\\AppData\\Local\\Temp\\ipykernel_10340\\556270802.py:9: RuntimeWarning: Mean of empty slice.\n",
      "  wv1_mean = wv1_.mean(axis=0)\n"
     ]
    }
   ],
   "source": [
    "tweets_temp = data['cleaned_tweet'].apply(document_vector)"
   ]
  },
  {
   "cell_type": "code",
   "execution_count": 31,
   "id": "e3ed3e44",
   "metadata": {},
   "outputs": [
    {
     "data": {
      "text/plain": [
       "0    [-0.090080164, 0.26460126, 0.00423076, 0.13398...\n",
       "1    [-0.0651898, 0.30592477, 0.0030073028, 0.16666...\n",
       "2    [-0.055297602, 0.2319622, 0.008258364, 0.13600...\n",
       "3    [-0.06455055, 0.25265494, 0.004988278, 0.14575...\n",
       "4    [-0.0550977, 0.24189469, 0.013624817, 0.131247...\n",
       "Name: cleaned_tweet, dtype: object"
      ]
     },
     "execution_count": 31,
     "metadata": {},
     "output_type": "execute_result"
    }
   ],
   "source": [
    "tweets_temp[:5]  # displaying the 1st 5 tweets, as document vectors"
   ]
  },
  {
   "cell_type": "code",
   "execution_count": 32,
   "id": "ae9d16ac",
   "metadata": {},
   "outputs": [
    {
     "data": {
      "text/plain": [
       "(7920, 300)"
      ]
     },
     "execution_count": 32,
     "metadata": {},
     "output_type": "execute_result"
    }
   ],
   "source": [
    "embedding_size = 300\n",
    "tweets_vec = np.ones((len(tweets_temp), embedding_size))*np.nan\n",
    "for i in range(tweets_vec.shape[0]):\n",
    "    tweets_vec[i,:] = tweets_temp.iloc[i]\n",
    "\n",
    "tweets_vec.shape # this itself is your final FEATURE MATRIX"
   ]
  },
  {
   "cell_type": "code",
   "execution_count": 33,
   "id": "c7ffcfac",
   "metadata": {},
   "outputs": [],
   "source": [
    "df = pd.DataFrame(tweets_vec)\n",
    "df['y'] = data['label']\n",
    "df.dropna(how='any', axis=0, inplace=True)"
   ]
  },
  {
   "cell_type": "code",
   "execution_count": 34,
   "id": "81f5e827",
   "metadata": {},
   "outputs": [
    {
     "data": {
      "text/html": [
       "<div>\n",
       "<style scoped>\n",
       "    .dataframe tbody tr th:only-of-type {\n",
       "        vertical-align: middle;\n",
       "    }\n",
       "\n",
       "    .dataframe tbody tr th {\n",
       "        vertical-align: top;\n",
       "    }\n",
       "\n",
       "    .dataframe thead th {\n",
       "        text-align: right;\n",
       "    }\n",
       "</style>\n",
       "<table border=\"1\" class=\"dataframe\">\n",
       "  <thead>\n",
       "    <tr style=\"text-align: right;\">\n",
       "      <th></th>\n",
       "      <th>0</th>\n",
       "      <th>1</th>\n",
       "      <th>2</th>\n",
       "      <th>3</th>\n",
       "      <th>4</th>\n",
       "      <th>5</th>\n",
       "      <th>6</th>\n",
       "      <th>7</th>\n",
       "      <th>8</th>\n",
       "      <th>9</th>\n",
       "      <th>...</th>\n",
       "      <th>291</th>\n",
       "      <th>292</th>\n",
       "      <th>293</th>\n",
       "      <th>294</th>\n",
       "      <th>295</th>\n",
       "      <th>296</th>\n",
       "      <th>297</th>\n",
       "      <th>298</th>\n",
       "      <th>299</th>\n",
       "      <th>y</th>\n",
       "    </tr>\n",
       "  </thead>\n",
       "  <tbody>\n",
       "    <tr>\n",
       "      <th>0</th>\n",
       "      <td>-0.090080</td>\n",
       "      <td>0.264601</td>\n",
       "      <td>0.004231</td>\n",
       "      <td>0.133989</td>\n",
       "      <td>-0.003309</td>\n",
       "      <td>-0.179349</td>\n",
       "      <td>0.182376</td>\n",
       "      <td>0.440369</td>\n",
       "      <td>0.052682</td>\n",
       "      <td>-0.116478</td>\n",
       "      <td>...</td>\n",
       "      <td>0.293237</td>\n",
       "      <td>0.198126</td>\n",
       "      <td>-0.001843</td>\n",
       "      <td>0.198578</td>\n",
       "      <td>0.349544</td>\n",
       "      <td>0.004741</td>\n",
       "      <td>-0.155976</td>\n",
       "      <td>0.217552</td>\n",
       "      <td>-0.057659</td>\n",
       "      <td>0</td>\n",
       "    </tr>\n",
       "    <tr>\n",
       "      <th>1</th>\n",
       "      <td>-0.065190</td>\n",
       "      <td>0.305925</td>\n",
       "      <td>0.003007</td>\n",
       "      <td>0.166667</td>\n",
       "      <td>0.035368</td>\n",
       "      <td>-0.237854</td>\n",
       "      <td>0.168166</td>\n",
       "      <td>0.519967</td>\n",
       "      <td>0.059122</td>\n",
       "      <td>-0.105917</td>\n",
       "      <td>...</td>\n",
       "      <td>0.318003</td>\n",
       "      <td>0.218326</td>\n",
       "      <td>-0.023073</td>\n",
       "      <td>0.274363</td>\n",
       "      <td>0.376964</td>\n",
       "      <td>0.039559</td>\n",
       "      <td>-0.179082</td>\n",
       "      <td>0.198297</td>\n",
       "      <td>-0.075063</td>\n",
       "      <td>0</td>\n",
       "    </tr>\n",
       "    <tr>\n",
       "      <th>2</th>\n",
       "      <td>-0.055298</td>\n",
       "      <td>0.231962</td>\n",
       "      <td>0.008258</td>\n",
       "      <td>0.136007</td>\n",
       "      <td>0.041670</td>\n",
       "      <td>-0.185313</td>\n",
       "      <td>0.158934</td>\n",
       "      <td>0.431419</td>\n",
       "      <td>0.060651</td>\n",
       "      <td>-0.089533</td>\n",
       "      <td>...</td>\n",
       "      <td>0.270727</td>\n",
       "      <td>0.170816</td>\n",
       "      <td>-0.003909</td>\n",
       "      <td>0.242761</td>\n",
       "      <td>0.312438</td>\n",
       "      <td>0.033804</td>\n",
       "      <td>-0.143584</td>\n",
       "      <td>0.170391</td>\n",
       "      <td>-0.059607</td>\n",
       "      <td>0</td>\n",
       "    </tr>\n",
       "    <tr>\n",
       "      <th>3</th>\n",
       "      <td>-0.064551</td>\n",
       "      <td>0.252655</td>\n",
       "      <td>0.004988</td>\n",
       "      <td>0.145752</td>\n",
       "      <td>0.036318</td>\n",
       "      <td>-0.195926</td>\n",
       "      <td>0.174303</td>\n",
       "      <td>0.469532</td>\n",
       "      <td>0.058989</td>\n",
       "      <td>-0.105710</td>\n",
       "      <td>...</td>\n",
       "      <td>0.299197</td>\n",
       "      <td>0.193784</td>\n",
       "      <td>-0.003212</td>\n",
       "      <td>0.264250</td>\n",
       "      <td>0.346821</td>\n",
       "      <td>0.027196</td>\n",
       "      <td>-0.157774</td>\n",
       "      <td>0.188071</td>\n",
       "      <td>-0.064435</td>\n",
       "      <td>0</td>\n",
       "    </tr>\n",
       "    <tr>\n",
       "      <th>4</th>\n",
       "      <td>-0.055098</td>\n",
       "      <td>0.241895</td>\n",
       "      <td>0.013625</td>\n",
       "      <td>0.131248</td>\n",
       "      <td>0.039060</td>\n",
       "      <td>-0.177072</td>\n",
       "      <td>0.139184</td>\n",
       "      <td>0.409705</td>\n",
       "      <td>0.060122</td>\n",
       "      <td>-0.085989</td>\n",
       "      <td>...</td>\n",
       "      <td>0.253893</td>\n",
       "      <td>0.164147</td>\n",
       "      <td>-0.016239</td>\n",
       "      <td>0.217001</td>\n",
       "      <td>0.289334</td>\n",
       "      <td>0.034760</td>\n",
       "      <td>-0.136129</td>\n",
       "      <td>0.162804</td>\n",
       "      <td>-0.051740</td>\n",
       "      <td>1</td>\n",
       "    </tr>\n",
       "  </tbody>\n",
       "</table>\n",
       "<p>5 rows × 301 columns</p>\n",
       "</div>"
      ],
      "text/plain": [
       "          0         1         2         3         4         5         6  \\\n",
       "0 -0.090080  0.264601  0.004231  0.133989 -0.003309 -0.179349  0.182376   \n",
       "1 -0.065190  0.305925  0.003007  0.166667  0.035368 -0.237854  0.168166   \n",
       "2 -0.055298  0.231962  0.008258  0.136007  0.041670 -0.185313  0.158934   \n",
       "3 -0.064551  0.252655  0.004988  0.145752  0.036318 -0.195926  0.174303   \n",
       "4 -0.055098  0.241895  0.013625  0.131248  0.039060 -0.177072  0.139184   \n",
       "\n",
       "          7         8         9  ...       291       292       293       294  \\\n",
       "0  0.440369  0.052682 -0.116478  ...  0.293237  0.198126 -0.001843  0.198578   \n",
       "1  0.519967  0.059122 -0.105917  ...  0.318003  0.218326 -0.023073  0.274363   \n",
       "2  0.431419  0.060651 -0.089533  ...  0.270727  0.170816 -0.003909  0.242761   \n",
       "3  0.469532  0.058989 -0.105710  ...  0.299197  0.193784 -0.003212  0.264250   \n",
       "4  0.409705  0.060122 -0.085989  ...  0.253893  0.164147 -0.016239  0.217001   \n",
       "\n",
       "        295       296       297       298       299  y  \n",
       "0  0.349544  0.004741 -0.155976  0.217552 -0.057659  0  \n",
       "1  0.376964  0.039559 -0.179082  0.198297 -0.075063  0  \n",
       "2  0.312438  0.033804 -0.143584  0.170391 -0.059607  0  \n",
       "3  0.346821  0.027196 -0.157774  0.188071 -0.064435  0  \n",
       "4  0.289334  0.034760 -0.136129  0.162804 -0.051740  1  \n",
       "\n",
       "[5 rows x 301 columns]"
      ]
     },
     "execution_count": 34,
     "metadata": {},
     "output_type": "execute_result"
    }
   ],
   "source": [
    "df.head()"
   ]
  },
  {
   "cell_type": "code",
   "execution_count": 35,
   "id": "df56594a",
   "metadata": {},
   "outputs": [
    {
     "data": {
      "text/plain": [
       "(7919, 300)"
      ]
     },
     "execution_count": 35,
     "metadata": {},
     "output_type": "execute_result"
    }
   ],
   "source": [
    "X_word_emb = df.drop('y', axis=1)\n",
    "y = df['y']\n",
    "X_word_emb.shape"
   ]
  },
  {
   "cell_type": "code",
   "execution_count": 36,
   "id": "d7d90f88",
   "metadata": {},
   "outputs": [],
   "source": [
    "from sklearn.pipeline import make_pipeline, Pipeline\n",
    "from sklearn.linear_model import LogisticRegression\n",
    "from sklearn.model_selection import cross_val_score, cross_validate\n",
    "from sklearn.model_selection import StratifiedKFold\n",
    "from sklearn.preprocessing import StandardScaler\n",
    "from sklearn.feature_extraction.text import CountVectorizer"
   ]
  },
  {
   "cell_type": "code",
   "execution_count": 37,
   "id": "af424fb3",
   "metadata": {},
   "outputs": [
    {
     "name": "stdout",
     "output_type": "stream",
     "text": [
      "84.48 0.23\n",
      "84.0 0.96\n"
     ]
    }
   ],
   "source": [
    "\n",
    "kfold = StratifiedKFold(n_splits=5, shuffle=True, random_state=42)\n",
    "LR1 = LogisticRegression(class_weight='balanced', solver='liblinear', penalty='l1', C=0.4, random_state=42)\n",
    "WE_pipe = Pipeline([('SC', StandardScaler()), ('LR', LR1)] )\n",
    "\n",
    "results = cross_validate(WE_pipe, X_word_emb, y, cv=kfold, scoring='accuracy', return_train_score=True)\n",
    "\n",
    "# print(results['train_score'])\n",
    "print(np.round((results['train_score'].mean())*100, 2), np.round((results['train_score'].std())*100, 2)) \n",
    "\n",
    "# print(results['test_score'])\n",
    "print(np.round((results['test_score'].mean())*100, 2), np.round((results['test_score'].std())*100, 2)) \n"
   ]
  },
  {
   "cell_type": "code",
   "execution_count": 38,
   "id": "caa7d428",
   "metadata": {},
   "outputs": [
    {
     "name": "stdout",
     "output_type": "stream",
     "text": [
      "86.55 0.35\n",
      "85.45 1.2\n"
     ]
    },
    {
     "data": {
      "text/plain": [
       "300"
      ]
     },
     "execution_count": 38,
     "metadata": {},
     "output_type": "execute_result"
    }
   ],
   "source": [
    "X = data['cleaned_tweet']\n",
    "y = data['label']\n",
    "\n",
    "# we want to include only those words in the vocab which have min df of 5,\n",
    "# means select only those words which occur ATLEAST in 5 documents!! \n",
    "# AND SELECT the TOP 300 FEATURES ONLY to build the model\n",
    "CV = CountVectorizer(min_df=5, max_features=300)\n",
    "\n",
    "LR1 = LogisticRegression(class_weight='balanced', solver='liblinear', penalty='l1', C=0.4)\n",
    "CV_pipe = Pipeline([('CV', CV) , ('LR', LR1)] )\n",
    "results = cross_validate(CV_pipe, X, y, cv=kfold, scoring='accuracy', return_train_score=True)\n",
    "\n",
    "# print(results['train_score'])\n",
    "print(np.round((results['train_score'].mean())*100, 2), np.round((results['train_score'].std())*100, 2)) \n",
    "\n",
    "# print(results['test_score'])\n",
    "print(np.round((results['test_score'].mean())*100, 2), np.round((results['test_score'].std())*100, 2)) \n",
    "\n",
    "CV.fit_transform(X)\n",
    "len(CV.vocabulary_)  # no. of features AFTER applying the stopwords"
   ]
  },
  {
   "cell_type": "markdown",
   "id": "ddf658bb",
   "metadata": {},
   "source": [
    "# Deep Learning Model "
   ]
  },
  {
   "cell_type": "code",
   "execution_count": 39,
   "id": "f2411f42",
   "metadata": {},
   "outputs": [],
   "source": [
    "from keras.utils.vis_utils import plot_model\n",
    "from keras.models import Sequential\n",
    "from keras.layers import Dense, Dropout\n",
    "from keras.callbacks import ModelCheckpoint\n",
    "import pydot\n",
    "import keras.backend as K"
   ]
  },
  {
   "cell_type": "code",
   "execution_count": 47,
   "id": "ffed00c1",
   "metadata": {},
   "outputs": [],
   "source": [
    "# This user-defined function return a Deep Learning Model\n",
    "\n",
    "def define_model(n_words):\n",
    "    # define network\n",
    "    model = Sequential()\n",
    "    model.add(Dense(64, input_shape=(n_words,), activation='relu', kernel_regularizer='l2'))\n",
    "    model.add(Dense(32, activation='relu', kernel_regularizer='l2'))\n",
    "    model.add(Dense(1, activation='sigmoid'))\n",
    "    model.compile(loss='binary_crossentropy', optimizer='adam', metrics=['accuracy'], )\n",
    "    model.summary()    \n",
    "    return model"
   ]
  },
  {
   "cell_type": "code",
   "execution_count": 41,
   "id": "1dbf43b2",
   "metadata": {},
   "outputs": [],
   "source": [
    "# evaluate a neural network model\n",
    "def evaluate_model(Xtrain, ytrain, Xtest, ytest):\n",
    "    scores = list()\n",
    "    n_repeats = 5\n",
    "    n_words = Xtest.shape[1]\n",
    "    \n",
    "    for i in range(n_repeats):\n",
    "        # define network\n",
    "        model = define_model(n_words)\n",
    "        \n",
    "        # fit network\n",
    "        model.fit(Xtrain, ytrain, epochs=10, verbose=0)\n",
    "        \n",
    "        # evaluate\n",
    "        _, acc = model.evaluate(Xtest, ytest, verbose=0)\n",
    "        scores.append(acc)\n",
    "        \n",
    "        print('%d accuracy: %s' % ((i+1), acc))\n",
    "    return scores"
   ]
  },
  {
   "cell_type": "code",
   "execution_count": 42,
   "id": "df9b60d1",
   "metadata": {},
   "outputs": [],
   "source": [
    "# fit a tokenizer\n",
    "from keras.preprocessing.text import Tokenizer\n",
    "def create_tokenizer(lines):\n",
    "    tokenizer = Tokenizer() # num_words=1000\n",
    "    tokenizer.fit_on_texts(lines)\n",
    "    return tokenizer"
   ]
  },
  {
   "cell_type": "code",
   "execution_count": 43,
   "id": "ca4bf2c9",
   "metadata": {},
   "outputs": [],
   "source": [
    "# create the tokenizer\n",
    "train_docs = data['cleaned_tweet']\n",
    "tokenizer = create_tokenizer(train_docs)"
   ]
  },
  {
   "cell_type": "code",
   "execution_count": 44,
   "id": "b5621720",
   "metadata": {},
   "outputs": [],
   "source": [
    "# encode data\n",
    "X = tokenizer.texts_to_matrix(train_docs, mode='binary')"
   ]
  },
  {
   "cell_type": "code",
   "execution_count": 45,
   "id": "61ca6b77",
   "metadata": {},
   "outputs": [],
   "source": [
    "Xtrain, Xtest, ytrain, ytest = train_test_split(X, y,  test_size=0.2,random_state=42) "
   ]
  },
  {
   "cell_type": "code",
   "execution_count": 48,
   "id": "514314d8",
   "metadata": {},
   "outputs": [
    {
     "name": "stdout",
     "output_type": "stream",
     "text": [
      "Model: \"sequential\"\n",
      "_________________________________________________________________\n",
      " Layer (type)                Output Shape              Param #   \n",
      "=================================================================\n",
      " dense (Dense)               (None, 64)                1055936   \n",
      "                                                                 \n",
      " dense_1 (Dense)             (None, 32)                2080      \n",
      "                                                                 \n",
      " dense_2 (Dense)             (None, 1)                 33        \n",
      "                                                                 \n",
      "=================================================================\n",
      "Total params: 1,058,049\n",
      "Trainable params: 1,058,049\n",
      "Non-trainable params: 0\n",
      "_________________________________________________________________\n"
     ]
    }
   ],
   "source": [
    "# define network\n",
    "K.clear_session() \n",
    "n_words = Xtrain.shape[1]\n",
    "model = define_model(n_words)"
   ]
  },
  {
   "cell_type": "code",
   "execution_count": 49,
   "id": "69bf94bb",
   "metadata": {},
   "outputs": [
    {
     "name": "stdout",
     "output_type": "stream",
     "text": [
      "Epoch 1/25\n",
      "\n",
      "Epoch 1: val_loss improved from inf to 0.82975, saving model to BestModel.h5\n",
      "32/32 - 2s - loss: 1.2176 - accuracy: 0.7408 - val_loss: 0.8298 - val_accuracy: 0.7776 - 2s/epoch - 63ms/step\n",
      "Epoch 2/25\n",
      "\n",
      "Epoch 2: val_loss improved from 0.82975 to 0.63414, saving model to BestModel.h5\n",
      "32/32 - 1s - loss: 0.7211 - accuracy: 0.8264 - val_loss: 0.6341 - val_accuracy: 0.8644 - 554ms/epoch - 17ms/step\n",
      "Epoch 3/25\n",
      "\n",
      "Epoch 3: val_loss improved from 0.63414 to 0.54019, saving model to BestModel.h5\n",
      "32/32 - 1s - loss: 0.5882 - accuracy: 0.8727 - val_loss: 0.5402 - val_accuracy: 0.8801 - 576ms/epoch - 18ms/step\n",
      "Epoch 4/25\n",
      "\n",
      "Epoch 4: val_loss improved from 0.54019 to 0.48676, saving model to BestModel.h5\n",
      "32/32 - 0s - loss: 0.5149 - accuracy: 0.8862 - val_loss: 0.4868 - val_accuracy: 0.8880 - 482ms/epoch - 15ms/step\n",
      "Epoch 5/25\n",
      "\n",
      "Epoch 5: val_loss improved from 0.48676 to 0.45027, saving model to BestModel.h5\n",
      "32/32 - 0s - loss: 0.4649 - accuracy: 0.8921 - val_loss: 0.4503 - val_accuracy: 0.8864 - 473ms/epoch - 15ms/step\n",
      "Epoch 6/25\n",
      "\n",
      "Epoch 6: val_loss improved from 0.45027 to 0.42916, saving model to BestModel.h5\n",
      "32/32 - 1s - loss: 0.4302 - accuracy: 0.8986 - val_loss: 0.4292 - val_accuracy: 0.8801 - 528ms/epoch - 17ms/step\n",
      "Epoch 7/25\n",
      "\n",
      "Epoch 7: val_loss improved from 0.42916 to 0.40978, saving model to BestModel.h5\n",
      "32/32 - 1s - loss: 0.4067 - accuracy: 0.9039 - val_loss: 0.4098 - val_accuracy: 0.8864 - 521ms/epoch - 16ms/step\n",
      "Epoch 8/25\n",
      "\n",
      "Epoch 8: val_loss improved from 0.40978 to 0.39736, saving model to BestModel.h5\n",
      "32/32 - 0s - loss: 0.3884 - accuracy: 0.9046 - val_loss: 0.3974 - val_accuracy: 0.8880 - 491ms/epoch - 15ms/step\n",
      "Epoch 9/25\n",
      "\n",
      "Epoch 9: val_loss improved from 0.39736 to 0.39033, saving model to BestModel.h5\n",
      "32/32 - 1s - loss: 0.3742 - accuracy: 0.9102 - val_loss: 0.3903 - val_accuracy: 0.8817 - 550ms/epoch - 17ms/step\n",
      "Epoch 10/25\n",
      "\n",
      "Epoch 10: val_loss improved from 0.39033 to 0.38909, saving model to BestModel.h5\n",
      "32/32 - 0s - loss: 0.3649 - accuracy: 0.9142 - val_loss: 0.3891 - val_accuracy: 0.8817 - 494ms/epoch - 15ms/step\n",
      "Epoch 11/25\n",
      "\n",
      "Epoch 11: val_loss improved from 0.38909 to 0.38306, saving model to BestModel.h5\n",
      "32/32 - 0s - loss: 0.3553 - accuracy: 0.9172 - val_loss: 0.3831 - val_accuracy: 0.8880 - 500ms/epoch - 16ms/step\n",
      "Epoch 12/25\n",
      "\n",
      "Epoch 12: val_loss improved from 0.38306 to 0.38153, saving model to BestModel.h5\n",
      "32/32 - 0s - loss: 0.3496 - accuracy: 0.9192 - val_loss: 0.3815 - val_accuracy: 0.8896 - 471ms/epoch - 15ms/step\n",
      "Epoch 13/25\n",
      "\n",
      "Epoch 13: val_loss improved from 0.38153 to 0.37886, saving model to BestModel.h5\n",
      "32/32 - 0s - loss: 0.3432 - accuracy: 0.9230 - val_loss: 0.3789 - val_accuracy: 0.8880 - 490ms/epoch - 15ms/step\n",
      "Epoch 14/25\n",
      "\n",
      "Epoch 14: val_loss did not improve from 0.37886\n",
      "32/32 - 0s - loss: 0.3373 - accuracy: 0.9262 - val_loss: 0.3800 - val_accuracy: 0.8801 - 492ms/epoch - 15ms/step\n",
      "Epoch 15/25\n",
      "\n",
      "Epoch 15: val_loss improved from 0.37886 to 0.37631, saving model to BestModel.h5\n",
      "32/32 - 0s - loss: 0.3316 - accuracy: 0.9306 - val_loss: 0.3763 - val_accuracy: 0.8880 - 459ms/epoch - 14ms/step\n",
      "Epoch 16/25\n",
      "\n",
      "Epoch 16: val_loss improved from 0.37631 to 0.37500, saving model to BestModel.h5\n",
      "32/32 - 0s - loss: 0.3267 - accuracy: 0.9304 - val_loss: 0.3750 - val_accuracy: 0.8880 - 480ms/epoch - 15ms/step\n",
      "Epoch 17/25\n",
      "\n",
      "Epoch 17: val_loss did not improve from 0.37500\n",
      "32/32 - 0s - loss: 0.3221 - accuracy: 0.9353 - val_loss: 0.3787 - val_accuracy: 0.8912 - 422ms/epoch - 13ms/step\n",
      "Epoch 18/25\n",
      "\n",
      "Epoch 18: val_loss improved from 0.37500 to 0.37336, saving model to BestModel.h5\n",
      "32/32 - 0s - loss: 0.3171 - accuracy: 0.9381 - val_loss: 0.3734 - val_accuracy: 0.8912 - 475ms/epoch - 15ms/step\n",
      "Epoch 19/25\n",
      "\n",
      "Epoch 19: val_loss did not improve from 0.37336\n",
      "32/32 - 0s - loss: 0.3129 - accuracy: 0.9370 - val_loss: 0.3747 - val_accuracy: 0.8864 - 441ms/epoch - 14ms/step\n",
      "Epoch 20/25\n",
      "\n",
      "Epoch 20: val_loss did not improve from 0.37336\n",
      "32/32 - 0s - loss: 0.3077 - accuracy: 0.9409 - val_loss: 0.3737 - val_accuracy: 0.8833 - 436ms/epoch - 14ms/step\n",
      "Epoch 21/25\n",
      "\n",
      "Epoch 21: val_loss did not improve from 0.37336\n",
      "32/32 - 0s - loss: 0.3034 - accuracy: 0.9448 - val_loss: 0.3741 - val_accuracy: 0.8975 - 444ms/epoch - 14ms/step\n",
      "Epoch 22/25\n",
      "\n",
      "Epoch 22: val_loss improved from 0.37336 to 0.37247, saving model to BestModel.h5\n",
      "32/32 - 0s - loss: 0.3012 - accuracy: 0.9430 - val_loss: 0.3725 - val_accuracy: 0.8801 - 487ms/epoch - 15ms/step\n",
      "Epoch 23/25\n",
      "\n",
      "Epoch 23: val_loss did not improve from 0.37247\n",
      "32/32 - 0s - loss: 0.2964 - accuracy: 0.9481 - val_loss: 0.3775 - val_accuracy: 0.8817 - 434ms/epoch - 14ms/step\n",
      "Epoch 24/25\n",
      "\n",
      "Epoch 24: val_loss improved from 0.37247 to 0.36789, saving model to BestModel.h5\n",
      "32/32 - 0s - loss: 0.2925 - accuracy: 0.9500 - val_loss: 0.3679 - val_accuracy: 0.8896 - 488ms/epoch - 15ms/step\n",
      "Epoch 25/25\n",
      "\n",
      "Epoch 25: val_loss did not improve from 0.36789\n",
      "32/32 - 0s - loss: 0.2900 - accuracy: 0.9470 - val_loss: 0.3692 - val_accuracy: 0.8880 - 435ms/epoch - 14ms/step\n"
     ]
    }
   ],
   "source": [
    "# fit network\n",
    "checkpoint = ModelCheckpoint(\"BestModel.h5\",\n",
    "                             monitor=\"val_loss\", \n",
    "                             mode=\"min\",\n",
    "                             save_best_only = True,\n",
    "                             verbose=1)\n",
    "callbacks = [checkpoint]\n",
    "\n",
    "h = model.fit(Xtrain, ytrain, validation_split=0.1, callbacks = callbacks, batch_size=180, epochs=25, verbose=2)"
   ]
  },
  {
   "cell_type": "code",
   "execution_count": 50,
   "id": "57fc183f",
   "metadata": {},
   "outputs": [
    {
     "data": {
      "text/plain": [
       "Text(0, 0.5, 'Loss Fn valaues')"
      ]
     },
     "execution_count": 50,
     "metadata": {},
     "output_type": "execute_result"
    },
    {
     "data": {
      "image/png": "[encoded data removed]",
      "text/plain": [
       "<Figure size 576x360 with 1 Axes>"
      ]
     },
     "metadata": {
      "needs_background": "light"
     },
     "output_type": "display_data"
    }
   ],
   "source": [
    "import matplotlib.pyplot as plt\n",
    "\n",
    "plt.figure(figsize=(8,5))\n",
    "plt.plot(list(range(1,26)), h.history['loss'], label='Training loss')\n",
    "plt.plot(list(range(1,26)), h.history['val_loss'], label='Validation loss')\n",
    "plt.legend(fontsize=15)\n",
    "plt.grid()\n",
    "plt.xlabel('Epochs', fontsize=15)\n",
    "plt.ylabel('Loss Fn valaues', fontsize=15)"
   ]
  },
  {
   "cell_type": "code",
   "execution_count": 51,
   "id": "85291b3b",
   "metadata": {},
   "outputs": [
    {
     "data": {
      "text/plain": [
       "Text(0, 0.5, 'Accuracy')"
      ]
     },
     "execution_count": 51,
     "metadata": {},
     "output_type": "execute_result"
    },
    {
     "data": {
      "image/png": "[encoded data removed]",
      "text/plain": [
       "<Figure size 576x360 with 1 Axes>"
      ]
     },
     "metadata": {
      "needs_background": "light"
     },
     "output_type": "display_data"
    }
   ],
   "source": [
    "import matplotlib.pyplot as plt\n",
    "\n",
    "plt.figure(figsize=(8,5))\n",
    "plt.plot(list(range(1,26)), h.history['accuracy'], label='Training Accuracy')\n",
    "plt.plot(list(range(1,26)), h.history['val_accuracy'], label='Validation Accuracy')\n",
    "plt.legend(fontsize=15)\n",
    "plt.grid()\n",
    "plt.xlabel('Epochs', fontsize=15)\n",
    "plt.ylabel('Accuracy', fontsize=15)"
   ]
  },
  {
   "cell_type": "code",
   "execution_count": 56,
   "id": "749d83f6",
   "metadata": {},
   "outputs": [
    {
     "name": "stdout",
     "output_type": "stream",
     "text": [
      "Test Accuracy: 88.38 %\n"
     ]
    }
   ],
   "source": [
    "# Evaluate the model on the test set\n",
    "loss, acc = model.evaluate(Xtest, ytest, verbose=0)\n",
    "\n",
    "# Print the test accuracy rounded to two decimal places using string formatting\n",
    "print('Test Accuracy: {:.2f} %'.format(acc * 100))\n"
   ]
  },
  {
   "cell_type": "code",
   "execution_count": 57,
   "id": "40030aa6",
   "metadata": {},
   "outputs": [],
   "source": [
    "# Train Accuracy = 93.81"
   ]
  }
 ],
 "metadata": {
  "kernelspec": {
   "display_name": "Python 3 (ipykernel)",
   "language": "python",
   "name": "python3"
  },
  "language_info": {
   "codemirror_mode": {
    "name": "ipython",
    "version": 3
   },
   "file_extension": ".py",
   "mimetype": "text/x-python",
   "name": "python",
   "nbconvert_exporter": "python",
   "pygments_lexer": "ipython3",
   "version": "3.9.12"
  }
 },
 "nbformat": 4,
 "nbformat_minor": 5
}
